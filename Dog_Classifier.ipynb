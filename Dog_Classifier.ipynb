{
  "nbformat": 4,
  "nbformat_minor": 0,
  "metadata": {
    "colab": {
      "name": "Dog Classifier.ipynb",
      "provenance": [],
      "collapsed_sections": [],
      "toc_visible": true,
      "authorship_tag": "ABX9TyOp4RZuSWLD7kqCwi5KAawn",
      "include_colab_link": true
    },
    "kernelspec": {
      "name": "python3",
      "display_name": "Python 3"
    },
    "accelerator": "GPU"
  },
  "cells": [
    {
      "cell_type": "markdown",
      "metadata": {
        "id": "view-in-github",
        "colab_type": "text"
      },
      "source": [
        "<a href=\"https://colab.research.google.com/github/Nikhil-Bajaj/Ssbudh/blob/master/Dog_Classifier.ipynb\" target=\"_parent\"><img src=\"https://colab.research.google.com/assets/colab-badge.svg\" alt=\"Open In Colab\"/></a>"
      ]
    },
    {
      "cell_type": "code",
      "metadata": {
        "id": "svBC3JApNNTY",
        "colab_type": "code",
        "outputId": "93b4d350-8921-48dc-d95a-859afe7bb077",
        "colab": {
          "base_uri": "https://localhost:8080/",
          "height": 81
        }
      },
      "source": [
        "from keras.models import Sequential\n",
        "from keras.layers import Conv2D,Activation,MaxPooling2D,Dense,Flatten,Dropout\n",
        "import numpy as np\n",
        "from IPython.display import display\n",
        "from PIL import Image\n",
        "from keras.preprocessing.image import ImageDataGenerator\n"
      ],
      "execution_count": 0,
      "outputs": [
        {
          "output_type": "stream",
          "text": [
            "Using TensorFlow backend.\n"
          ],
          "name": "stderr"
        },
        {
          "output_type": "display_data",
          "data": {
            "text/html": [
              "<p style=\"color: red;\">\n",
              "The default version of TensorFlow in Colab will soon switch to TensorFlow 2.x.<br>\n",
              "We recommend you <a href=\"https://www.tensorflow.org/guide/migrate\" target=\"_blank\">upgrade</a> now \n",
              "or ensure your notebook will continue to use TensorFlow 1.x via the <code>%tensorflow_version 1.x</code> magic:\n",
              "<a href=\"https://colab.research.google.com/notebooks/tensorflow_version.ipynb\" target=\"_blank\">more info</a>.</p>\n"
            ],
            "text/plain": [
              "<IPython.core.display.HTML object>"
            ]
          },
          "metadata": {
            "tags": []
          }
        }
      ]
    },
    {
      "cell_type": "code",
      "metadata": {
        "id": "uVBtWHOvcdaa",
        "colab_type": "code",
        "outputId": "2c5170bb-a2c1-409f-b27a-c24c2e277e62",
        "colab": {
          "base_uri": "https://localhost:8080/",
          "height": 1000
        }
      },
      "source": [
        "classifier = Sequential()\n",
        "classifier.add(Conv2D(32,(3,3),input_shape=(64,64,3)))\n",
        "classifier.add(Activation('relu'))\n",
        "classifier.add(MaxPooling2D(pool_size =(2,2)))\n",
        "classifier.add(Conv2D(32,(3,3)))\n",
        "classifier.add(Activation('relu'))\n",
        "classifier.add(MaxPooling2D(pool_size =(2,2)))\n",
        "classifier.add(Conv2D(32,(3,3)))\n",
        "classifier.add(Activation('relu'))\n",
        "classifier.add(MaxPooling2D(pool_size =(2,2)))\n",
        "classifier.add(Flatten())\n",
        "classifier.add(Dense(64))\n",
        "classifier.add(Activation('relu'))\n",
        "classifier.add(Dropout(0.5))\n",
        "classifier.add(Dense(1))\n",
        "classifier.add(Activation('sigmoid'))\n",
        "classifier.summary()\n",
        "classifier.compile(optimizer ='rmsprop',\n",
        "                   loss ='binary_crossentropy',\n",
        "                   metrics =['accuracy'])\n",
        "\n",
        "train_datagen = ImageDataGenerator(rescale =1./255,\n",
        "                                   shear_range =0.2,\n",
        "                                   zoom_range = 0.2,\n",
        "                                   horizontal_flip =True)\n",
        "test_datagen = ImageDataGenerator(rescale = 1./255)"
      ],
      "execution_count": 0,
      "outputs": [
        {
          "output_type": "stream",
          "text": [
            "WARNING:tensorflow:From /usr/local/lib/python3.6/dist-packages/keras/backend/tensorflow_backend.py:66: The name tf.get_default_graph is deprecated. Please use tf.compat.v1.get_default_graph instead.\n",
            "\n",
            "WARNING:tensorflow:From /usr/local/lib/python3.6/dist-packages/keras/backend/tensorflow_backend.py:541: The name tf.placeholder is deprecated. Please use tf.compat.v1.placeholder instead.\n",
            "\n",
            "WARNING:tensorflow:From /usr/local/lib/python3.6/dist-packages/keras/backend/tensorflow_backend.py:4432: The name tf.random_uniform is deprecated. Please use tf.random.uniform instead.\n",
            "\n",
            "WARNING:tensorflow:From /usr/local/lib/python3.6/dist-packages/keras/backend/tensorflow_backend.py:4267: The name tf.nn.max_pool is deprecated. Please use tf.nn.max_pool2d instead.\n",
            "\n",
            "WARNING:tensorflow:From /usr/local/lib/python3.6/dist-packages/keras/backend/tensorflow_backend.py:148: The name tf.placeholder_with_default is deprecated. Please use tf.compat.v1.placeholder_with_default instead.\n",
            "\n",
            "WARNING:tensorflow:From /usr/local/lib/python3.6/dist-packages/keras/backend/tensorflow_backend.py:3733: calling dropout (from tensorflow.python.ops.nn_ops) with keep_prob is deprecated and will be removed in a future version.\n",
            "Instructions for updating:\n",
            "Please use `rate` instead of `keep_prob`. Rate should be set to `rate = 1 - keep_prob`.\n",
            "Model: \"sequential_1\"\n",
            "_________________________________________________________________\n",
            "Layer (type)                 Output Shape              Param #   \n",
            "=================================================================\n",
            "conv2d_1 (Conv2D)            (None, 62, 62, 32)        896       \n",
            "_________________________________________________________________\n",
            "activation_1 (Activation)    (None, 62, 62, 32)        0         \n",
            "_________________________________________________________________\n",
            "max_pooling2d_1 (MaxPooling2 (None, 31, 31, 32)        0         \n",
            "_________________________________________________________________\n",
            "conv2d_2 (Conv2D)            (None, 29, 29, 32)        9248      \n",
            "_________________________________________________________________\n",
            "activation_2 (Activation)    (None, 29, 29, 32)        0         \n",
            "_________________________________________________________________\n",
            "max_pooling2d_2 (MaxPooling2 (None, 14, 14, 32)        0         \n",
            "_________________________________________________________________\n",
            "conv2d_3 (Conv2D)            (None, 12, 12, 32)        9248      \n",
            "_________________________________________________________________\n",
            "activation_3 (Activation)    (None, 12, 12, 32)        0         \n",
            "_________________________________________________________________\n",
            "max_pooling2d_3 (MaxPooling2 (None, 6, 6, 32)          0         \n",
            "_________________________________________________________________\n",
            "flatten_1 (Flatten)          (None, 1152)              0         \n",
            "_________________________________________________________________\n",
            "dense_1 (Dense)              (None, 64)                73792     \n",
            "_________________________________________________________________\n",
            "activation_4 (Activation)    (None, 64)                0         \n",
            "_________________________________________________________________\n",
            "dropout_1 (Dropout)          (None, 64)                0         \n",
            "_________________________________________________________________\n",
            "dense_2 (Dense)              (None, 1)                 65        \n",
            "_________________________________________________________________\n",
            "activation_5 (Activation)    (None, 1)                 0         \n",
            "=================================================================\n",
            "Total params: 93,249\n",
            "Trainable params: 93,249\n",
            "Non-trainable params: 0\n",
            "_________________________________________________________________\n",
            "WARNING:tensorflow:From /usr/local/lib/python3.6/dist-packages/keras/optimizers.py:793: The name tf.train.Optimizer is deprecated. Please use tf.compat.v1.train.Optimizer instead.\n",
            "\n",
            "WARNING:tensorflow:From /usr/local/lib/python3.6/dist-packages/keras/backend/tensorflow_backend.py:3657: The name tf.log is deprecated. Please use tf.math.log instead.\n",
            "\n",
            "WARNING:tensorflow:From /usr/local/lib/python3.6/dist-packages/tensorflow_core/python/ops/nn_impl.py:183: where (from tensorflow.python.ops.array_ops) is deprecated and will be removed in a future version.\n",
            "Instructions for updating:\n",
            "Use tf.where in 2.0, which has the same broadcast rule as np.where\n"
          ],
          "name": "stdout"
        }
      ]
    },
    {
      "cell_type": "markdown",
      "metadata": {
        "id": "dOgbVMTaufur",
        "colab_type": "text"
      },
      "source": [
        ""
      ]
    },
    {
      "cell_type": "code",
      "metadata": {
        "id": "4O6aN5LoARiA",
        "colab_type": "code",
        "outputId": "062b3b52-812e-4646-e47e-7ae31808bc1f",
        "colab": {
          "base_uri": "https://localhost:8080/",
          "height": 124
        }
      },
      "source": [
        "from google.colab import drive\n",
        "drive.mount('/content/drive')"
      ],
      "execution_count": 0,
      "outputs": [
        {
          "output_type": "stream",
          "text": [
            "Go to this URL in a browser: https://accounts.google.com/o/oauth2/auth?client_id=947318989803-6bn6qk8qdgf4n4g3pfee6491hc0brc4i.apps.googleusercontent.com&redirect_uri=urn%3aietf%3awg%3aoauth%3a2.0%3aoob&response_type=code&scope=email%20https%3a%2f%2fwww.googleapis.com%2fauth%2fdocs.test%20https%3a%2f%2fwww.googleapis.com%2fauth%2fdrive%20https%3a%2f%2fwww.googleapis.com%2fauth%2fdrive.photos.readonly%20https%3a%2f%2fwww.googleapis.com%2fauth%2fpeopleapi.readonly\n",
            "\n",
            "Enter your authorization code:\n",
            "··········\n",
            "Mounted at /content/drive\n"
          ],
          "name": "stdout"
        }
      ]
    },
    {
      "cell_type": "code",
      "metadata": {
        "id": "tulPyaDQ8qbP",
        "colab_type": "code",
        "colab": {}
      },
      "source": [
        "\n",
        "!unzip \"/content/drive/My Drive/Colab Notebooks/train.zip\" -d \"/content/drive/My Drive/Colab Notebooks/train_unzipped/train\""
      ],
      "execution_count": 0,
      "outputs": []
    },
    {
      "cell_type": "code",
      "metadata": {
        "id": "Orn-w6ygEMSW",
        "colab_type": "code",
        "colab": {}
      },
      "source": [
        "!unzip \"/content/drive/My Drive/Colab Notebooks/test.zip\" -d \"/content/drive/My Drive/Colab Notebooks/test_unzipped\""
      ],
      "execution_count": 0,
      "outputs": []
    },
    {
      "cell_type": "code",
      "metadata": {
        "id": "25i9U5ZmmTsd",
        "colab_type": "code",
        "outputId": "7c5c98e7-0429-465f-ec54-be2fc47f2138",
        "colab": {
          "base_uri": "https://localhost:8080/",
          "height": 34
        }
      },
      "source": [
        "!ls \"/content/drive/My Drive/Colab Notebooks/test_unzipped\""
      ],
      "execution_count": 0,
      "outputs": [
        {
          "output_type": "stream",
          "text": [
            "test\n"
          ],
          "name": "stdout"
        }
      ]
    },
    {
      "cell_type": "code",
      "metadata": {
        "id": "m2lEsrBdFAML",
        "colab_type": "code",
        "outputId": "2a169ad8-7171-4220-f3f4-9b05e6771fe6",
        "colab": {
          "base_uri": "https://localhost:8080/",
          "height": 1000
        }
      },
      "source": [
        "training_set = train_datagen.flow_from_directory(\"/content/drive/My Drive/Colab Notebooks/train_unzipped/train\",\n",
        "                                                target_size=(64,64),\n",
        "                                                batch_size= 32,\n",
        "                                                class_mode='binary')\n",
        "\n",
        "test_set = test_datagen.flow_from_directory(\"/content/drive/My Drive/Colab Notebooks/test_unzipped/test\",\n",
        "                                           target_size = (64,64),\n",
        "                                           batch_size = 32,\n",
        "                                           class_mode ='binary')\n",
        "classifier.fit_generator(training_set,\n",
        "                        steps_per_epoch =625,\n",
        "                        epochs = 25,\n",
        "                        validation_data =test_set,\n",
        "                        validation_steps = 5000)\n",
        "classifier.save('/content/drive/My Drive/Colab Notebooks/catdog_cnn_model.h5')\n",
        "\n",
        "\n"
      ],
      "execution_count": 0,
      "outputs": [
        {
          "output_type": "stream",
          "text": [
            "Found 19999 images belonging to 2 classes.\n",
            "Found 5001 images belonging to 2 classes.\n",
            "WARNING:tensorflow:From /usr/local/lib/python3.6/dist-packages/keras/backend/tensorflow_backend.py:1033: The name tf.assign_add is deprecated. Please use tf.compat.v1.assign_add instead.\n",
            "\n",
            "WARNING:tensorflow:From /usr/local/lib/python3.6/dist-packages/keras/backend/tensorflow_backend.py:1020: The name tf.assign is deprecated. Please use tf.compat.v1.assign instead.\n",
            "\n",
            "WARNING:tensorflow:From /usr/local/lib/python3.6/dist-packages/keras/backend/tensorflow_backend.py:3005: The name tf.Session is deprecated. Please use tf.compat.v1.Session instead.\n",
            "\n",
            "Epoch 1/25\n",
            "WARNING:tensorflow:From /usr/local/lib/python3.6/dist-packages/keras/backend/tensorflow_backend.py:190: The name tf.get_default_session is deprecated. Please use tf.compat.v1.get_default_session instead.\n",
            "\n",
            "WARNING:tensorflow:From /usr/local/lib/python3.6/dist-packages/keras/backend/tensorflow_backend.py:197: The name tf.ConfigProto is deprecated. Please use tf.compat.v1.ConfigProto instead.\n",
            "\n",
            "WARNING:tensorflow:From /usr/local/lib/python3.6/dist-packages/keras/backend/tensorflow_backend.py:207: The name tf.global_variables is deprecated. Please use tf.compat.v1.global_variables instead.\n",
            "\n",
            "WARNING:tensorflow:From /usr/local/lib/python3.6/dist-packages/keras/backend/tensorflow_backend.py:216: The name tf.is_variable_initialized is deprecated. Please use tf.compat.v1.is_variable_initialized instead.\n",
            "\n",
            "WARNING:tensorflow:From /usr/local/lib/python3.6/dist-packages/keras/backend/tensorflow_backend.py:223: The name tf.variables_initializer is deprecated. Please use tf.compat.v1.variables_initializer instead.\n",
            "\n",
            "625/625 [==============================] - 7380s 12s/step - loss: 0.6529 - acc: 0.6056 - val_loss: 0.5631 - val_acc: 0.7055\n",
            "Epoch 2/25\n",
            "625/625 [==============================] - 631s 1s/step - loss: 0.5707 - acc: 0.7070 - val_loss: 0.5551 - val_acc: 0.7070\n",
            "Epoch 3/25\n",
            "625/625 [==============================] - 630s 1s/step - loss: 0.5294 - acc: 0.7373 - val_loss: 0.4745 - val_acc: 0.7649\n",
            "Epoch 4/25\n",
            "625/625 [==============================] - 632s 1s/step - loss: 0.4989 - acc: 0.7615 - val_loss: 0.4586 - val_acc: 0.7842\n",
            "Epoch 5/25\n",
            "625/625 [==============================] - 634s 1s/step - loss: 0.4807 - acc: 0.7787 - val_loss: 0.4579 - val_acc: 0.7810\n",
            "Epoch 6/25\n",
            "625/625 [==============================] - 638s 1s/step - loss: 0.4613 - acc: 0.7843 - val_loss: 0.4901 - val_acc: 0.7791\n",
            "Epoch 7/25\n",
            "625/625 [==============================] - 632s 1s/step - loss: 0.4471 - acc: 0.7946 - val_loss: 0.4248 - val_acc: 0.8001\n",
            "Epoch 8/25\n",
            "625/625 [==============================] - 635s 1s/step - loss: 0.4367 - acc: 0.8005 - val_loss: 0.4502 - val_acc: 0.7858\n",
            "Epoch 9/25\n",
            "625/625 [==============================] - 641s 1s/step - loss: 0.4279 - acc: 0.8068 - val_loss: 0.3810 - val_acc: 0.8278\n",
            "Epoch 10/25\n",
            "625/625 [==============================] - 637s 1s/step - loss: 0.4224 - acc: 0.8085 - val_loss: 0.3771 - val_acc: 0.8259\n",
            "Epoch 11/25\n",
            "625/625 [==============================] - 637s 1s/step - loss: 0.4105 - acc: 0.8170 - val_loss: 0.3696 - val_acc: 0.8302\n",
            "Epoch 12/25\n",
            "625/625 [==============================] - 638s 1s/step - loss: 0.4048 - acc: 0.8209 - val_loss: 0.3907 - val_acc: 0.8218\n",
            "Epoch 13/25\n",
            "625/625 [==============================] - 638s 1s/step - loss: 0.3998 - acc: 0.8224 - val_loss: 0.3724 - val_acc: 0.8354\n",
            "Epoch 14/25\n",
            "625/625 [==============================] - 639s 1s/step - loss: 0.3926 - acc: 0.8280 - val_loss: 0.4073 - val_acc: 0.8064\n",
            "Epoch 15/25\n",
            "625/625 [==============================] - 635s 1s/step - loss: 0.3877 - acc: 0.8274 - val_loss: 0.3810 - val_acc: 0.8236\n",
            "Epoch 16/25\n",
            "625/625 [==============================] - 640s 1s/step - loss: 0.3848 - acc: 0.8327 - val_loss: 0.3560 - val_acc: 0.8369\n",
            "Epoch 17/25\n",
            "625/625 [==============================] - 640s 1s/step - loss: 0.3834 - acc: 0.8337 - val_loss: 0.4780 - val_acc: 0.7940\n",
            "Epoch 18/25\n",
            "625/625 [==============================] - 639s 1s/step - loss: 0.3764 - acc: 0.8374 - val_loss: 0.3669 - val_acc: 0.8327\n",
            "Epoch 19/25\n",
            "625/625 [==============================] - 641s 1s/step - loss: 0.3711 - acc: 0.8388 - val_loss: 0.3429 - val_acc: 0.8463\n",
            "Epoch 20/25\n",
            "625/625 [==============================] - 633s 1s/step - loss: 0.3712 - acc: 0.8413 - val_loss: 0.3579 - val_acc: 0.8485\n",
            "Epoch 21/25\n",
            "625/625 [==============================] - 608s 973ms/step - loss: 0.3704 - acc: 0.8425 - val_loss: 0.3327 - val_acc: 0.8540\n",
            "Epoch 22/25\n",
            "625/625 [==============================] - 613s 981ms/step - loss: 0.3674 - acc: 0.8426 - val_loss: 0.3923 - val_acc: 0.8382\n",
            "Epoch 23/25\n",
            "625/625 [==============================] - 607s 970ms/step - loss: 0.3656 - acc: 0.8435 - val_loss: 0.3355 - val_acc: 0.8517\n",
            "Epoch 24/25\n",
            "625/625 [==============================] - 605s 968ms/step - loss: 0.3622 - acc: 0.8440 - val_loss: 0.3649 - val_acc: 0.8540\n",
            "Epoch 25/25\n",
            "625/625 [==============================] - 604s 966ms/step - loss: 0.3651 - acc: 0.8446 - val_loss: 0.5400 - val_acc: 0.7736\n"
          ],
          "name": "stdout"
        }
      ]
    }
  ]
}