{
  "nbformat": 4,
  "nbformat_minor": 0,
  "metadata": {
    "colab": {
      "name": "Jsontodir.ipynb",
      "provenance": [],
      "mount_file_id": "1su1uH6RY04xN-Mumt3PADeHKP1xN_ARk",
      "authorship_tag": "ABX9TyOjj53MxmbEiJ0rwqeyKv5P",
      "include_colab_link": true
    },
    "kernelspec": {
      "name": "python3",
      "display_name": "Python 3"
    }
  },
  "cells": [
    {
      "cell_type": "markdown",
      "metadata": {
        "id": "view-in-github",
        "colab_type": "text"
      },
      "source": [
        "<a href=\"https://colab.research.google.com/github/Nikhil-Bajaj/Ssbudh/blob/master/Jsontodir.ipynb\" target=\"_parent\"><img src=\"https://colab.research.google.com/assets/colab-badge.svg\" alt=\"Open In Colab\"/></a>"
      ]
    },
    {
      "cell_type": "code",
      "metadata": {
        "id": "rkD_3I0wmA9s",
        "colab_type": "code",
        "colab": {}
      },
      "source": [
        "import os\n",
        "import shutil\n",
        "import numpy as np\n",
        "destdir = \"/content/drive/My Drive/PROJECT_DATA/Json_handpose/thursday/\"\n",
        "srdir=\"/content/drive/My Drive/PROJECT_DATA/Json_handpose/thursday/\"\n",
        "jsn=[]\n",
        "for file in os.listdir(srdir):\n",
        "  if file.endswith(\".json\"):\n",
        "    jsn.append(file)\n",
        "\n"
      ],
      "execution_count": 0,
      "outputs": []
    },
    {
      "cell_type": "code",
      "metadata": {
        "id": "yMrjDeiwnrfs",
        "colab_type": "code",
        "colab": {
          "base_uri": "https://localhost:8080/",
          "height": 34
        },
        "outputId": "281082ca-0470-47b4-9560-219d68c7c51e"
      },
      "source": [
        "\n",
        "os.chdir(destdir)\n",
        "name1=[]\n",
        "for i in jsn:\n",
        "  name=i.split(\"_\")\n",
        "  name=name[0]\n",
        "  os.chdir(destdir)\n",
        "  try:\n",
        "    os.mkdir(name)\n",
        "  except:\n",
        "    pass\n",
        "  shutil.move(srdir+i, destdir+name)\n",
        "print('Done...')\n",
        "\n"
      ],
      "execution_count": 6,
      "outputs": [
        {
          "output_type": "stream",
          "text": [
            "Done...\n"
          ],
          "name": "stdout"
        }
      ]
    },
    {
      "cell_type": "code",
      "metadata": {
        "id": "9UpgMi5-nwky",
        "colab_type": "code",
        "colab": {}
      },
      "source": [
        ""
      ],
      "execution_count": 0,
      "outputs": []
    },
    {
      "cell_type": "code",
      "metadata": {
        "id": "J2UDlrvUs2nH",
        "colab_type": "code",
        "colab": {}
      },
      "source": [
        ""
      ],
      "execution_count": 0,
      "outputs": []
    },
    {
      "cell_type": "code",
      "metadata": {
        "id": "eVH-r1F3tk4S",
        "colab_type": "code",
        "colab": {}
      },
      "source": [
        ""
      ],
      "execution_count": 0,
      "outputs": []
    }
  ]
}